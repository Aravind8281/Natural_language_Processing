{
  "nbformat": 4,
  "nbformat_minor": 0,
  "metadata": {
    "colab": {
      "provenance": [],
      "collapsed_sections": [
        "jUDCc0Xn2BgH",
        "6NqB2wsB2G8j"
      ],
      "authorship_tag": "ABX9TyPXok92FlLfmu5uD9K0afCL",
      "include_colab_link": true
    },
    "kernelspec": {
      "name": "python3",
      "display_name": "Python 3"
    },
    "language_info": {
      "name": "python"
    }
  },
  "cells": [
    {
      "cell_type": "markdown",
      "metadata": {
        "id": "view-in-github",
        "colab_type": "text"
      },
      "source": [
        "<a href=\"https://colab.research.google.com/github/Aravind8281/Natural_language_Processing/blob/main/NLP.ipynb\" target=\"_parent\"><img src=\"https://colab.research.google.com/assets/colab-badge.svg\" alt=\"Open In Colab\"/></a>"
      ]
    },
    {
      "cell_type": "code",
      "source": [
        "pip install nltk"
      ],
      "metadata": {
        "colab": {
          "base_uri": "https://localhost:8080/"
        },
        "id": "OxuihwNIzjDR",
        "outputId": "32a12921-ef8c-4b2e-f61c-8c5b9e5864ec"
      },
      "execution_count": null,
      "outputs": [
        {
          "output_type": "stream",
          "name": "stdout",
          "text": [
            "Requirement already satisfied: nltk in /usr/local/lib/python3.10/dist-packages (3.8.1)\n",
            "Requirement already satisfied: click in /usr/local/lib/python3.10/dist-packages (from nltk) (8.1.7)\n",
            "Requirement already satisfied: joblib in /usr/local/lib/python3.10/dist-packages (from nltk) (1.3.2)\n",
            "Requirement already satisfied: regex>=2021.8.3 in /usr/local/lib/python3.10/dist-packages (from nltk) (2023.6.3)\n",
            "Requirement already satisfied: tqdm in /usr/local/lib/python3.10/dist-packages (from nltk) (4.66.1)\n"
          ]
        }
      ]
    },
    {
      "cell_type": "markdown",
      "source": [
        "# Tokenizer"
      ],
      "metadata": {
        "id": "jUDCc0Xn2BgH"
      }
    },
    {
      "cell_type": "code",
      "source": [
        "import nltk\n",
        "from nltk.tokenize import word_tokenize,sent_tokenize\n",
        "nltk.download('punkt')\n",
        "text=\" hello people im aravindan machine learning developer\"\n",
        "word=word_tokenize(text)\n",
        "sentence=sent_tokenize(text)\n",
        "print(word)\n",
        "print(sentence)"
      ],
      "metadata": {
        "colab": {
          "base_uri": "https://localhost:8080/"
        },
        "id": "Y4xLW-l-z1Gt",
        "outputId": "91ea6a5c-72c2-4cd1-cdac-db13c512999f"
      },
      "execution_count": null,
      "outputs": [
        {
          "output_type": "stream",
          "name": "stderr",
          "text": [
            "[nltk_data] Downloading package punkt to /root/nltk_data...\n",
            "[nltk_data]   Unzipping tokenizers/punkt.zip.\n"
          ]
        },
        {
          "output_type": "stream",
          "name": "stdout",
          "text": [
            "['hello', 'people', 'im', 'aravindan', 'machine', 'learning', 'developer']\n",
            "[' hello people im aravindan machine learning developer']\n"
          ]
        }
      ]
    },
    {
      "cell_type": "markdown",
      "source": [
        "#Stopwords"
      ],
      "metadata": {
        "id": "6NqB2wsB2G8j"
      }
    },
    {
      "cell_type": "code",
      "source": [
        "import nltk\n",
        "nltk.download('stopwords')\n",
        "from nltk.corpus import stopwords\n",
        "stop_words=set(stopwords.words('english'))\n",
        "print(stop_words)"
      ],
      "metadata": {
        "colab": {
          "base_uri": "https://localhost:8080/"
        },
        "id": "eVU3oGUV0Rmc",
        "outputId": "fa114f22-4012-4795-88e4-a16fd043ffba"
      },
      "execution_count": null,
      "outputs": [
        {
          "output_type": "stream",
          "name": "stdout",
          "text": [
            "{'needn', 'for', 'a', 'ain', 'which', 'am', 'below', 'each', 'or', 'such', 'very', 'down', 'than', 'are', \"wasn't\", \"you'd\", 'ourselves', 've', 'how', 'll', 'they', 'whom', 'just', 'under', \"weren't\", 'against', 'does', 'you', \"hasn't\", 'yourself', 'these', 'i', 'before', 'until', 'too', 'this', 'after', 'is', 'she', 'it', 'mightn', \"shan't\", 'their', 'as', 'do', 'doing', 'at', 'o', \"hadn't\", 'won', 'then', 'in', 'me', 'will', 'yourselves', 'themselves', 'your', 'why', 'itself', 'no', 's', 'once', \"you're\", 'and', \"don't\", \"you'll\", 'who', 'be', 'all', 'haven', 'ma', \"mustn't\", \"won't\", 'did', 'other', 'out', \"aren't\", 'isn', 'here', 'between', 'over', 'any', 'his', 'there', 'myself', 'most', 'wouldn', 'both', 'of', \"it's\", 'can', 'few', 'that', 'to', 'hadn', 'should', \"should've\", 'what', 'them', 'being', 'more', 'y', 'those', \"couldn't\", 'have', 'during', 'nor', 'only', \"wouldn't\", 'himself', 'shan', 'because', 'hasn', \"you've\", \"isn't\", \"mightn't\", 'through', 'not', 'herself', 'up', 'were', 'd', 'when', 'off', \"doesn't\", 'weren', 'where', 'we', \"that'll\", 'but', 'm', 'couldn', 'didn', 'was', \"needn't\", 'own', 'about', 'its', 'don', 'above', 'some', \"didn't\", 'ours', 'from', 'him', 'been', 'he', 'aren', 'again', 'an', 'having', 'the', 're', 'had', 'doesn', 'yours', \"shouldn't\", 'same', 'by', 'shouldn', 'now', 'on', 'while', 'our', 'has', 'theirs', 'mustn', 'her', 'my', 'hers', 't', \"she's\", 'wasn', 'further', 'so', \"haven't\", 'with', 'if', 'into'}\n"
          ]
        },
        {
          "output_type": "stream",
          "name": "stderr",
          "text": [
            "[nltk_data] Downloading package stopwords to /root/nltk_data...\n",
            "[nltk_data]   Unzipping corpora/stopwords.zip.\n"
          ]
        }
      ]
    },
    {
      "cell_type": "markdown",
      "source": [
        "# Stemming and Lemmatization"
      ],
      "metadata": {
        "id": "md_SDZrc2Kq0"
      }
    },
    {
      "cell_type": "code",
      "source": [
        "import nltk\n",
        "nltk.download('wordnet')\n",
        "from nltk.stem import PorterStemmer, WordNetLemmatizer\n",
        "porter=PorterStemmer()\n",
        "lemmatizer=WordNetLemmatizer()\n",
        "word=\"Playing\"\n",
        "porter_word=porter.stem(word)\n",
        "lematize_word=lemmatizer.lemmatize(word)\n",
        "print(porter_word)\n",
        "print(lematize_word)"
      ],
      "metadata": {
        "colab": {
          "base_uri": "https://localhost:8080/"
        },
        "id": "bHWq8-Tu1HmV",
        "outputId": "88099b65-6269-4698-d45e-5c8e3669f350"
      },
      "execution_count": null,
      "outputs": [
        {
          "output_type": "stream",
          "name": "stderr",
          "text": [
            "[nltk_data] Downloading package wordnet to /root/nltk_data...\n"
          ]
        },
        {
          "output_type": "stream",
          "name": "stdout",
          "text": [
            "play\n",
            "Playing\n"
          ]
        }
      ]
    },
    {
      "cell_type": "markdown",
      "source": [
        "#Part Of Speech"
      ],
      "metadata": {
        "id": "sI27flp53LzL"
      }
    },
    {
      "cell_type": "code",
      "source": [
        "import nltk\n",
        "nltk.download('averaged_perceptron_tagger')\n",
        "from nltk import pos_tag\n",
        "from nltk.tokenize import word_tokenize\n",
        "text=\"Aravind is a emerging Artificial intelligence Engineer\"\n",
        "words=word_tokenize(text)\n",
        "pos=pos_tag(words)\n",
        "print(pos)"
      ],
      "metadata": {
        "colab": {
          "base_uri": "https://localhost:8080/"
        },
        "id": "PFHi9JCN2Wam",
        "outputId": "529705a2-2927-4e94-c0d1-0f403124fe88"
      },
      "execution_count": null,
      "outputs": [
        {
          "output_type": "stream",
          "name": "stderr",
          "text": [
            "[nltk_data] Downloading package averaged_perceptron_tagger to\n",
            "[nltk_data]     /root/nltk_data...\n",
            "[nltk_data]   Unzipping taggers/averaged_perceptron_tagger.zip.\n"
          ]
        },
        {
          "output_type": "stream",
          "name": "stdout",
          "text": [
            "[('Aravind', 'NNP'), ('is', 'VBZ'), ('a', 'DT'), ('emerging', 'VBG'), ('Artificial', 'JJ'), ('intelligence', 'NN'), ('Engineer', 'NNP')]\n"
          ]
        }
      ]
    },
    {
      "cell_type": "markdown",
      "source": [
        "# Named Entity recognition"
      ],
      "metadata": {
        "id": "ExXvSe3G46zk"
      }
    },
    {
      "cell_type": "code",
      "source": [
        "import nltk\n",
        "nltk.download('maxent_ne_chunker')\n",
        "nltk.download('words')\n",
        "from nltk import ne_chunk\n",
        "sentence=\"Aravind is a emerging Artificial intelligence Engineer\"\n",
        "words=word_tokenize(sentence)\n",
        "pos=pos_tag(words)\n",
        "NER=ne_chunk(pos)\n",
        "print(NER)"
      ],
      "metadata": {
        "colab": {
          "base_uri": "https://localhost:8080/"
        },
        "id": "zLEnyEdV3s5b",
        "outputId": "44c44321-4e81-40e4-a0e4-6f84b34ad41a"
      },
      "execution_count": null,
      "outputs": [
        {
          "output_type": "stream",
          "name": "stdout",
          "text": [
            "(S\n",
            "  (PERSON Aravind/NNP)\n",
            "  is/VBZ\n",
            "  a/DT\n",
            "  emerging/VBG\n",
            "  (ORGANIZATION Artificial/JJ)\n",
            "  intelligence/NN\n",
            "  Engineer/NNP)\n"
          ]
        },
        {
          "output_type": "stream",
          "name": "stderr",
          "text": [
            "[nltk_data] Downloading package maxent_ne_chunker to\n",
            "[nltk_data]     /root/nltk_data...\n",
            "[nltk_data]   Package maxent_ne_chunker is already up-to-date!\n",
            "[nltk_data] Downloading package words to /root/nltk_data...\n",
            "[nltk_data]   Unzipping corpora/words.zip.\n"
          ]
        }
      ]
    },
    {
      "cell_type": "markdown",
      "source": [
        "# Frequency Distribution"
      ],
      "metadata": {
        "id": "wSoKDb8Y5CQr"
      }
    },
    {
      "cell_type": "code",
      "source": [
        "from nltk import FreqDist\n",
        "sentence=\"Aravind is a emerging Artificial Intelligence Developer\"\n",
        "words=word_tokenize(sentence)\n",
        "freq=FreqDist(words)\n",
        "print(freq.most_common(5))"
      ],
      "metadata": {
        "colab": {
          "base_uri": "https://localhost:8080/"
        },
        "id": "T-MuB0ef4hbL",
        "outputId": "99b62d1f-2d04-497b-f5dc-6fbe7c7f5b9c"
      },
      "execution_count": null,
      "outputs": [
        {
          "output_type": "stream",
          "name": "stdout",
          "text": [
            "[('Aravind', 1), ('is', 1), ('a', 1), ('emerging', 1), ('Artificial', 1)]\n"
          ]
        }
      ]
    },
    {
      "cell_type": "markdown",
      "source": [
        "# Similarity"
      ],
      "metadata": {
        "id": "KHYGn7r66ZDX"
      }
    },
    {
      "cell_type": "code",
      "source": [
        "from nltk.corpus import wordnet\n",
        "from nltk.wsd import lesk\n",
        "word1=wordnet.synsets(\"ship\")[0]\n",
        "word2=wordnet.synsets(\"yacht\")[0]\n",
        "similarity=word1.wup_similarity(word2)\n",
        "print(similarity)"
      ],
      "metadata": {
        "colab": {
          "base_uri": "https://localhost:8080/"
        },
        "id": "2Ict1RKZ5dzC",
        "outputId": "979c35a2-e23c-4a01-eba7-37a2be8c7542"
      },
      "execution_count": null,
      "outputs": [
        {
          "output_type": "stream",
          "name": "stdout",
          "text": [
            "0.9090909090909091\n"
          ]
        }
      ]
    },
    {
      "cell_type": "markdown",
      "source": [
        "# Collocations"
      ],
      "metadata": {
        "id": "fW6ssXnz7YBT"
      }
    },
    {
      "cell_type": "code",
      "source": [
        "import nltk\n",
        "nltk.download('genesis')\n",
        "from nltk.collocations import BigramCollocationFinder\n",
        "from nltk.metrics import BigramAssocMeasures\n",
        "words=nltk.corpus.genesis.words('english-kjv.txt')\n",
        "bigram=BigramCollocationFinder.from_words(words)\n",
        "bigram_collocation=bigram.nbest(BigramAssocMeasures.pmi,10)\n",
        "print(\"Top 10 Collocations :\")\n",
        "for col in bigram_collocation:\n",
        "  print(''.join(col))"
      ],
      "metadata": {
        "colab": {
          "base_uri": "https://localhost:8080/"
        },
        "id": "Jz_n8w-f6xtQ",
        "outputId": "5e75c2dc-8cdd-4bb8-d623-158d32d5b4d0"
      },
      "execution_count": 28,
      "outputs": [
        {
          "output_type": "stream",
          "name": "stderr",
          "text": [
            "[nltk_data] Downloading package genesis to /root/nltk_data...\n",
            "[nltk_data]   Package genesis is already up-to-date!\n"
          ]
        },
        {
          "output_type": "stream",
          "name": "stdout",
          "text": [
            "Top 10 Collocations :\n",
            "AshterothKarnaim\n",
            "HittiWhich\n",
            "Philistim,)\n",
            "Thirtymilch\n",
            "Whososheddeth\n",
            "bakeunleavened\n",
            "burninglamp\n",
            "figleaves\n",
            "fordJabbok\n",
            "horseheels\n"
          ]
        }
      ]
    },
    {
      "cell_type": "markdown",
      "source": [
        "# Concardance"
      ],
      "metadata": {
        "id": "s3l5XRoZ9JqI"
      }
    },
    {
      "cell_type": "code",
      "source": [
        "!nltk.download('gutenberg')"
      ],
      "metadata": {
        "colab": {
          "base_uri": "https://localhost:8080/"
        },
        "id": "90LPmSQA9w7c",
        "outputId": "8e092535-20b2-451b-eda5-842751a97947"
      },
      "execution_count": 31,
      "outputs": [
        {
          "output_type": "stream",
          "name": "stdout",
          "text": [
            "/bin/bash: -c: line 1: syntax error near unexpected token `'gutenberg''\n",
            "/bin/bash: -c: line 1: `nltk.download('gutenberg')'\n"
          ]
        }
      ]
    },
    {
      "cell_type": "code",
      "source": [
        "import nltk\n",
        "from nltk.corpus import brown\n",
        "from nltk.text import Text\n",
        "import nltk\n",
        "nltk.download('brown')\n",
        "category = 'news'\n",
        "words = brown.words(categories=category)\n",
        "text = Text(words)\n",
        "word_to_find = 'government'\n",
        "text.concordance(word_to_find, lines=10)\n"
      ],
      "metadata": {
        "id": "dzSxrLtM8Zjd",
        "colab": {
          "base_uri": "https://localhost:8080/"
        },
        "outputId": "58f98dc3-8065-4f13-bba9-e3e963d229b6"
      },
      "execution_count": 38,
      "outputs": [
        {
          "output_type": "stream",
          "name": "stderr",
          "text": [
            "[nltk_data] Downloading package brown to /root/nltk_data...\n",
            "[nltk_data]   Package brown is already up-to-date!\n"
          ]
        },
        {
          "output_type": "stream",
          "name": "stdout",
          "text": [
            "Displaying 10 of 73 matches:\n",
            "r per student . In addition , the government would pay a $1,000 `` cost of edu\n",
            " in the 1961-62 budget for direct government research in medicine . The Presid\n",
            "e outcome in Laos was a coalition government susceptible of Communist dominati\n",
            "eutralized Laos . The pro-Western government , which the United States had hel\n",
            " Souvanna Phouma `` neutralist '' government , never did appear to spark much \n",
            "es would not back the pro-Western government to the hilt . If the administrati\n",
            "m , Mr. Hawksley said the federal government would pay half the salary of a fu\n",
            " eligible to apply to the federal government for financial aid in purchasing e\n",
            " the local level from the federal government . Rhode Island is going to examin\n",
            " `` great revenue '' to the local government . The council advised the governo\n"
          ]
        }
      ]
    },
    {
      "cell_type": "code",
      "source": [],
      "metadata": {
        "id": "h0hg3B_09P-m"
      },
      "execution_count": null,
      "outputs": []
    }
  ]
}